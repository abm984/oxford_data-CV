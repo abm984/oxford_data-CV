{
  "cells": [
    {
      "cell_type": "code",
      "execution_count": 1,
      "metadata": {
        "id": "_edbgXRw39nk"
      },
      "outputs": [],
      "source": [
        "import tensorflow as tf\n",
        "import os\n",
        "import glob\n",
        "import tarfile\n",
        "import numpy as np\n",
        "from scipy.io import loadmat\n",
        "from shutil import copyfile, rmtree\n",
        "import sys\n",
        "import json\n",
        "if sys.version_info[0] >= 3:\n",
        "    from urllib.request import urlretrieve\n",
        "else:\n",
        "    from urllib import urlretrieve"
      ]
    },
    {
      "cell_type": "code",
      "execution_count": 2,
      "metadata": {
        "id": "SgYjw6ci4LEc"
      },
      "outputs": [],
      "source": [
        "def download_file(url, dest=None):\n",
        "    if not dest:\n",
        "        dest = os.path.join(data_path, url.split('/')[-1])\n",
        "    urlretrieve(url, dest)"
      ]
    },
    {
      "cell_type": "code",
      "execution_count": 3,
      "metadata": {
        "id": "o80P7weW4PKL"
      },
      "outputs": [],
      "source": [
        "data_path = 'flower'"
      ]
    },
    {
      "cell_type": "code",
      "execution_count": 4,
      "metadata": {
        "id": "T9gwdBDK4RRI"
      },
      "outputs": [],
      "source": [
        "if not os.path.exists(data_path):\n",
        "    os.mkdir(data_path)\n",
        "flowers_archive_path = os.path.join(data_path, '102flowers.tgz')\n",
        "if not os.path.isfile(flowers_archive_path):\n",
        "    print ('Downloading images...')\n",
        "    download_file('http://www.robots.ox.ac.uk/~vgg/data/flowers/102/102flowers.tgz')\n",
        "    tarfile.open(flowers_archive_path).extractall(path=data_path)\n",
        "\n",
        "image_labels_path = os.path.join(data_path, 'imagelabels.mat')\n",
        "if not os.path.isfile(image_labels_path):\n",
        "    print(\"Downloading image labels...\")\n",
        "    download_file('http://www.robots.ox.ac.uk/~vgg/data/flowers/102/imagelabels.mat')"
      ]
    },
    {
      "cell_type": "code",
      "execution_count": 5,
      "metadata": {
        "id": "Zltflmq54VJW"
      },
      "outputs": [],
      "source": [
        "image_labels = loadmat(image_labels_path)['labels'][0]\n",
        "image_labels -= 1"
      ]
    },
    {
      "cell_type": "code",
      "execution_count": 6,
      "metadata": {
        "id": "5aqDesmb4YDn"
      },
      "outputs": [],
      "source": [
        "files = sorted(glob.glob(os.path.join(data_path, 'jpg', '*.jpg')))\n",
        "labels = np.array([i for i in zip(files, image_labels)])"
      ]
    },
    {
      "cell_type": "code",
      "source": [],
      "metadata": {
        "colab": {
          "base_uri": "https://localhost:8080/"
        },
        "id": "j4ogpGyqDjst",
        "outputId": "734b81f7-5cbc-4284-cf8d-87ba084589cc"
      },
      "execution_count": 31,
      "outputs": [
        {
          "output_type": "stream",
          "name": "stdout",
          "text": [
            "/content/v_d\n"
          ]
        }
      ]
    },
    {
      "cell_type": "code",
      "execution_count": 7,
      "metadata": {
        "id": "RbIpt6bC4aQU"
      },
      "outputs": [],
      "source": [
        "cwd = os.getcwd()"
      ]
    },
    {
      "cell_type": "code",
      "execution_count": 8,
      "metadata": {
        "id": "zl89nlWI4cO_"
      },
      "outputs": [],
      "source": [
        "def move_files(dir_name,cwd,labels):\n",
        "    cur_dir_path = os.path.join(cwd, dir_name)\n",
        "    if not os.path.exists(cur_dir_path):\n",
        "        os.mkdir(cur_dir_path)\n",
        "    for i in range(0, 102):\n",
        "        class_dir = os.path.join(cwd, dir_name, str(i))\n",
        "        os.mkdir(class_dir)\n",
        "    for label in labels:\n",
        "        src = str(label[0])\n",
        "        dst = os.path.join(cwd,dir_name, label[1], src.split(os.sep)[-1])\n",
        "        copyfile(src, dst)"
      ]
    },
    {
      "cell_type": "code",
      "execution_count": null,
      "metadata": {
        "id": "X0lcTNNV4ebm"
      },
      "outputs": [],
      "source": [
        "dir_name=os.path.join(data_path,'class')\n",
        "move_files(dir_name,cwd,labels)"
      ]
    },
    {
      "cell_type": "code",
      "execution_count": 10,
      "metadata": {
        "id": "_1Mud0kc4g3f"
      },
      "outputs": [],
      "source": [
        "def save_dict(content,filename):\n",
        "    content = dict(content)\n",
        "    with open(filename,'w') as file_object:\n",
        "        json.dump(content,file_object)"
      ]
    },
    {
      "cell_type": "code",
      "execution_count": 11,
      "metadata": {
        "id": "r25ovX_74kLS"
      },
      "outputs": [],
      "source": [
        "def load_dict(filename):\n",
        "    with open(filename,'r') as file_object:\n",
        "        content = json.load(file_object)\n",
        "    return content"
      ]
    },
    {
      "cell_type": "code",
      "execution_count": 12,
      "metadata": {
        "id": "FwkuEVDZ4mOQ"
      },
      "outputs": [],
      "source": [
        "save_dict(labels,os.path.join(data_path,'image-label.json'))"
      ]
    },
    {
      "cell_type": "code",
      "source": [
        "import torch\n",
        "import torch.nn as nn\n",
        "import torch.optim as optim\n",
        "import torchvision.models as models\n",
        "import torchvision.transforms as transforms\n",
        "from torchvision.datasets import ImageFolder\n",
        "from torch.utils.data import DataLoader\n",
        "\n",
        "# Set random seed for reproducibility\n",
        "torch.manual_seed(42)\n",
        "\n",
        "# Set device\n",
        "device = torch.device(\"cuda\" if torch.cuda.is_available() else \"cpu\")\n",
        "\n",
        "# Data transformations\n",
        "transform = transforms.Compose([\n",
        "    transforms.Resize((224, 224)),\n",
        "    transforms.ToTensor(),\n",
        "    transforms.Normalize((0.485, 0.456, 0.406), (0.229, 0.224, 0.225))\n",
        "])\n",
        "\n",
        "# Path to the Flowers dataset directory\n",
        "dataset_directory = '/content/flower/class'\n",
        "\n",
        "# Load the dataset\n",
        "dataset = ImageFolder(dataset_directory, transform=transform)\n",
        "\n",
        "# Define the dataloader\n",
        "dataloader = DataLoader(dataset, batch_size=32, shuffle=True)\n",
        "\n",
        "# Load pre-trained ResNet-50 model\n",
        "model = models.resnet50(pretrained=True)\n",
        "model.to(device)\n",
        "\n",
        "# Modify the last fully connected layer for the number of flower classes\n",
        "num_classes = len(dataset.classes)\n",
        "model.fc = nn.Linear(model.fc.in_features, num_classes)\n",
        "model.to(device)\n",
        "\n",
        "# Define the loss function\n",
        "criterion = nn.CrossEntropyLoss()\n",
        "\n",
        "# Define the optimizer\n",
        "optimizer = optim.SGD(model.parameters(), lr=0.001, momentum=0.9)\n",
        "\n",
        "# Training loop\n",
        "num_epochs = 10\n",
        "\n",
        "for epoch in range(num_epochs):\n",
        "    running_loss = 0.0\n",
        "\n",
        "    for images, labels in dataloader:\n",
        "        images = images.to(device)\n",
        "        labels = labels.to(device)\n",
        "\n",
        "        optimizer.zero_grad()\n",
        "\n",
        "        outputs = model(images)\n",
        "        loss = criterion(outputs, labels)\n",
        "\n",
        "        loss.backward()\n",
        "        optimizer.step()\n",
        "\n",
        "        running_loss += loss.item()\n",
        "\n",
        "    epoch_loss = running_loss / len(dataloader)\n",
        "    print(f\"Epoch {epoch+1}/{num_epochs}, Loss: {epoch_loss:.4f}\")\n",
        "\n",
        "print(\"Training complete!\")\n"
      ],
      "metadata": {
        "colab": {
          "base_uri": "https://localhost:8080/"
        },
        "id": "PHqZX5kxSeTd",
        "outputId": "c012fb55-c930-4c86-ae0e-fb37485adc62"
      },
      "execution_count": 13,
      "outputs": [
        {
          "output_type": "stream",
          "name": "stderr",
          "text": [
            "/usr/local/lib/python3.10/dist-packages/torchvision/models/_utils.py:208: UserWarning: The parameter 'pretrained' is deprecated since 0.13 and may be removed in the future, please use 'weights' instead.\n",
            "  warnings.warn(\n",
            "/usr/local/lib/python3.10/dist-packages/torchvision/models/_utils.py:223: UserWarning: Arguments other than a weight enum or `None` for 'weights' are deprecated since 0.13 and may be removed in the future. The current behavior is equivalent to passing `weights=ResNet50_Weights.IMAGENET1K_V1`. You can also use `weights=ResNet50_Weights.DEFAULT` to get the most up-to-date weights.\n",
            "  warnings.warn(msg)\n"
          ]
        },
        {
          "output_type": "stream",
          "name": "stdout",
          "text": [
            "Epoch 1/10, Loss: 2.9955\n",
            "Epoch 2/10, Loss: 0.9663\n",
            "Epoch 3/10, Loss: 0.3772\n",
            "Epoch 4/10, Loss: 0.1940\n",
            "Epoch 5/10, Loss: 0.1162\n",
            "Epoch 6/10, Loss: 0.0756\n",
            "Epoch 7/10, Loss: 0.0553\n",
            "Epoch 8/10, Loss: 0.0405\n",
            "Epoch 9/10, Loss: 0.0326\n",
            "Epoch 10/10, Loss: 0.0287\n",
            "Training complete!\n"
          ]
        }
      ]
    }
  ],
  "metadata": {
    "colab": {
      "provenance": [],
      "gpuType": "T4"
    },
    "kernelspec": {
      "display_name": "Python 3",
      "name": "python3"
    },
    "language_info": {
      "name": "python"
    },
    "accelerator": "GPU"
  },
  "nbformat": 4,
  "nbformat_minor": 0
}