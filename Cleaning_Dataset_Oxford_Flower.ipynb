{
  "cells": [
    {
      "cell_type": "code",
      "execution_count": 1,
      "metadata": {
        "id": "_edbgXRw39nk"
      },
      "outputs": [],
      "source": [
        "import tensorflow as tf\n",
        "import os\n",
        "import glob\n",
        "import tarfile\n",
        "import numpy as np\n",
        "from scipy.io import loadmat\n",
        "from shutil import copyfile, rmtree\n",
        "import sys\n",
        "import json\n",
        "if sys.version_info[0] >= 3:\n",
        "    from urllib.request import urlretrieve\n",
        "else:\n",
        "    from urllib import urlretrieve"
      ]
    },
    {
      "cell_type": "code",
      "execution_count": 2,
      "metadata": {
        "id": "SgYjw6ci4LEc"
      },
      "outputs": [],
      "source": [
        "def download_file(url, dest=None):\n",
        "    if not dest:\n",
        "        dest = os.path.join(data_path, url.split('/')[-1])\n",
        "    urlretrieve(url, dest)"
      ]
    },
    {
      "cell_type": "code",
      "execution_count": 3,
      "metadata": {
        "id": "o80P7weW4PKL"
      },
      "outputs": [],
      "source": [
        "data_path = 'flower'"
      ]
    },
    {
      "cell_type": "code",
      "execution_count": 4,
      "metadata": {
        "id": "T9gwdBDK4RRI"
      },
      "outputs": [],
      "source": [
        "if not os.path.exists(data_path):\n",
        "    os.mkdir(data_path)\n",
        "flowers_archive_path = os.path.join(data_path, '102flowers.tgz')\n",
        "if not os.path.isfile(flowers_archive_path):\n",
        "    print ('Downloading images...')\n",
        "    download_file('http://www.robots.ox.ac.uk/~vgg/data/flowers/102/102flowers.tgz')\n",
        "    tarfile.open(flowers_archive_path).extractall(path=data_path)\n",
        "\n",
        "image_labels_path = os.path.join(data_path, 'imagelabels.mat')\n",
        "if not os.path.isfile(image_labels_path):\n",
        "    print(\"Downloading image labels...\")\n",
        "    download_file('http://www.robots.ox.ac.uk/~vgg/data/flowers/102/imagelabels.mat')"
      ]
    },
    {
      "cell_type": "code",
      "execution_count": 5,
      "metadata": {
        "id": "Zltflmq54VJW"
      },
      "outputs": [],
      "source": [
        "image_labels = loadmat(image_labels_path)['labels'][0]\n",
        "image_labels -= 1"
      ]
    },
    {
      "cell_type": "code",
      "execution_count": 6,
      "metadata": {
        "id": "5aqDesmb4YDn"
      },
      "outputs": [],
      "source": [
        "files = sorted(glob.glob(os.path.join(data_path, 'jpg', '*.jpg')))\n",
        "labels = np.array([i for i in zip(files, image_labels)])"
      ]
    },
    {
      "cell_type": "code",
      "source": [],
      "metadata": {
        "colab": {
          "base_uri": "https://localhost:8080/"
        },
        "id": "j4ogpGyqDjst",
        "outputId": "734b81f7-5cbc-4284-cf8d-87ba084589cc"
      },
      "execution_count": 31,
      "outputs": [
        {
          "output_type": "stream",
          "name": "stdout",
          "text": [
            "/content/v_d\n"
          ]
        }
      ]
    },
    {
      "cell_type": "code",
      "execution_count": 7,
      "metadata": {
        "id": "RbIpt6bC4aQU"
      },
      "outputs": [],
      "source": [
        "cwd = os.getcwd()"
      ]
    },
    {
      "cell_type": "code",
      "execution_count": 8,
      "metadata": {
        "id": "zl89nlWI4cO_"
      },
      "outputs": [],
      "source": [
        "def move_files(dir_name,cwd,labels):\n",
        "    cur_dir_path = os.path.join(cwd, dir_name)\n",
        "    if not os.path.exists(cur_dir_path):\n",
        "        os.mkdir(cur_dir_path)\n",
        "    for i in range(0, 102):\n",
        "        class_dir = os.path.join(cwd, dir_name, str(i))\n",
        "        os.mkdir(class_dir)\n",
        "    for label in labels:\n",
        "        src = str(label[0])\n",
        "        dst = os.path.join(cwd,dir_name, label[1], src.split(os.sep)[-1])\n",
        "        copyfile(src, dst)"
      ]
    },
    {
      "cell_type": "code",
      "execution_count": null,
      "metadata": {
        "id": "X0lcTNNV4ebm"
      },
      "outputs": [],
      "source": [
        "dir_name=os.path.join(data_path,'class')\n",
        "move_files(dir_name,cwd,labels)"
      ]
    },
    {
      "cell_type": "code",
      "execution_count": 10,
      "metadata": {
        "id": "_1Mud0kc4g3f"
      },
      "outputs": [],
      "source": [
        "def save_dict(content,filename):\n",
        "    content = dict(content)\n",
        "    with open(filename,'w') as file_object:\n",
        "        json.dump(content,file_object)"
      ]
    },
    {
      "cell_type": "code",
      "execution_count": 11,
      "metadata": {
        "id": "r25ovX_74kLS"
      },
      "outputs": [],
      "source": [
        "def load_dict(filename):\n",
        "    with open(filename,'r') as file_object:\n",
        "        content = json.load(file_object)\n",
        "    return content"
      ]
    },
    {
      "cell_type": "code",
      "execution_count": 12,
      "metadata": {
        "id": "FwkuEVDZ4mOQ"
      },
      "outputs": [],
      "source": [
        "save_dict(labels,os.path.join(data_path,'image-label.json'))"
      ]
    }
      ],
      "metadata": {
        "colab": {
          "base_uri": "https://localhost:8080/"
        },
        "id": "PHqZX5kxSeTd",
        "outputId": "c012fb55-c930-4c86-ae0e-fb37485adc62"
      },
      "execution_count": 13,
      "outputs": [
        {
          "output_type": "stream",
          "name": "stderr",
          "text": [
            "/usr/local/lib/python3.10/dist-packages/torchvision/models/_utils.py:208: UserWarning: The parameter 'pretrained' is deprecated since 0.13 and may be removed in the future, please use 'weights' instead.\n",
            "  warnings.warn(\n",
            "/usr/local/lib/python3.10/dist-packages/torchvision/models/_utils.py:223: UserWarning: Arguments other than a weight enum or `None` for 'weights' are deprecated since 0.13 and may be removed in the future. The current behavior is equivalent to passing `weights=ResNet50_Weights.IMAGENET1K_V1`. You can also use `weights=ResNet50_Weights.DEFAULT` to get the most up-to-date weights.\n",
            "  warnings.warn(msg)\n"
          ]
        },
        {
          "output_type": "stream",
          "name": "stdout",
          "text": [
            "Epoch 1/10, Loss: 2.9955\n",
            "Epoch 2/10, Loss: 0.9663\n",
            "Epoch 3/10, Loss: 0.3772\n",
            "Epoch 4/10, Loss: 0.1940\n",
            "Epoch 5/10, Loss: 0.1162\n",
            "Epoch 6/10, Loss: 0.0756\n",
            "Epoch 7/10, Loss: 0.0553\n",
            "Epoch 8/10, Loss: 0.0405\n",
            "Epoch 9/10, Loss: 0.0326\n",
            "Epoch 10/10, Loss: 0.0287\n",
            "Training complete!\n"
          ]
        }
      ]
    }
  ],
  "metadata": {
    "colab": {
      "provenance": [],
      "gpuType": "T4"
    },
    "kernelspec": {
      "display_name": "Python 3",
      "name": "python3"
    },
    "language_info": {
      "name": "python"
    },
    "accelerator": "GPU"
  },
  "nbformat": 4,
  "nbformat_minor": 0
}
